{
 "cells": [
  {
   "cell_type": "code",
   "execution_count": 1,
   "metadata": {
    "collapsed": true
   },
   "outputs": [],
   "source": [
    "import pandas as pd\n",
    "import numpy as np\n",
    "#import tensorflow as tf\n",
    "from sklearn import preprocessing "
   ]
  },
  {
   "cell_type": "code",
   "execution_count": 2,
   "metadata": {
    "collapsed": false
   },
   "outputs": [
    {
     "data": {
      "text/html": [
       "<div>\n",
       "<table border=\"1\" class=\"dataframe\">\n",
       "  <thead>\n",
       "    <tr style=\"text-align: right;\">\n",
       "      <th></th>\n",
       "      <th>L-CORE</th>\n",
       "      <th>L-SURF</th>\n",
       "      <th>L-02</th>\n",
       "      <th>L-BP</th>\n",
       "      <th>SURF-STBL</th>\n",
       "      <th>CORE-STBL</th>\n",
       "      <th>BP-STBL</th>\n",
       "      <th>COMFORT</th>\n",
       "      <th>decision</th>\n",
       "    </tr>\n",
       "  </thead>\n",
       "  <tbody>\n",
       "    <tr>\n",
       "      <th>0</th>\n",
       "      <td>mid</td>\n",
       "      <td>low</td>\n",
       "      <td>excellent</td>\n",
       "      <td>mid</td>\n",
       "      <td>stable</td>\n",
       "      <td>stable</td>\n",
       "      <td>stable</td>\n",
       "      <td>15</td>\n",
       "      <td>A</td>\n",
       "    </tr>\n",
       "    <tr>\n",
       "      <th>1</th>\n",
       "      <td>mid</td>\n",
       "      <td>high</td>\n",
       "      <td>excellent</td>\n",
       "      <td>high</td>\n",
       "      <td>stable</td>\n",
       "      <td>stable</td>\n",
       "      <td>stable</td>\n",
       "      <td>10</td>\n",
       "      <td>S</td>\n",
       "    </tr>\n",
       "    <tr>\n",
       "      <th>2</th>\n",
       "      <td>high</td>\n",
       "      <td>low</td>\n",
       "      <td>excellent</td>\n",
       "      <td>high</td>\n",
       "      <td>stable</td>\n",
       "      <td>stable</td>\n",
       "      <td>mod-stable</td>\n",
       "      <td>10</td>\n",
       "      <td>A</td>\n",
       "    </tr>\n",
       "    <tr>\n",
       "      <th>3</th>\n",
       "      <td>mid</td>\n",
       "      <td>low</td>\n",
       "      <td>good</td>\n",
       "      <td>high</td>\n",
       "      <td>stable</td>\n",
       "      <td>unstable</td>\n",
       "      <td>mod-stable</td>\n",
       "      <td>15</td>\n",
       "      <td>A</td>\n",
       "    </tr>\n",
       "    <tr>\n",
       "      <th>4</th>\n",
       "      <td>mid</td>\n",
       "      <td>mid</td>\n",
       "      <td>excellent</td>\n",
       "      <td>high</td>\n",
       "      <td>stable</td>\n",
       "      <td>stable</td>\n",
       "      <td>stable</td>\n",
       "      <td>10</td>\n",
       "      <td>A</td>\n",
       "    </tr>\n",
       "  </tbody>\n",
       "</table>\n",
       "</div>"
      ],
      "text/plain": [
       "  L-CORE L-SURF       L-02  L-BP SURF-STBL CORE-STBL     BP-STBL COMFORT  \\\n",
       "0    mid    low  excellent   mid    stable    stable      stable      15   \n",
       "1    mid   high  excellent  high    stable    stable      stable      10   \n",
       "2   high    low  excellent  high    stable    stable  mod-stable      10   \n",
       "3    mid    low       good  high    stable  unstable  mod-stable      15   \n",
       "4    mid    mid  excellent  high    stable    stable      stable      10   \n",
       "\n",
       "  decision  \n",
       "0        A  \n",
       "1        S  \n",
       "2        A  \n",
       "3       A   \n",
       "4        A  "
      ]
     },
     "execution_count": 2,
     "metadata": {},
     "output_type": "execute_result"
    }
   ],
   "source": [
    "data_url='http://archive.ics.uci.edu/ml/machine-learning-databases/postoperative-patient-data/post-operative.data'\n",
    "names = ['L-CORE', 'L-SURF', 'L-02', 'L-BP', 'SURF-STBL', 'CORE-STBL', 'BP-STBL', 'COMFORT', 'decision']\n",
    "df = pd.read_csv(data_url, names=names)\n",
    "df[:5]"
   ]
  },
  {
   "cell_type": "code",
   "execution_count": 3,
   "metadata": {
    "collapsed": false
   },
   "outputs": [
    {
     "data": {
      "text/html": [
       "<div>\n",
       "<table border=\"1\" class=\"dataframe\">\n",
       "  <thead>\n",
       "    <tr style=\"text-align: right;\">\n",
       "      <th></th>\n",
       "      <th>L-CORE</th>\n",
       "      <th>L-SURF</th>\n",
       "      <th>L-02</th>\n",
       "      <th>L-BP</th>\n",
       "      <th>SURF-STBL</th>\n",
       "      <th>CORE-STBL</th>\n",
       "      <th>BP-STBL</th>\n",
       "      <th>COMFORT</th>\n",
       "      <th>decision</th>\n",
       "    </tr>\n",
       "  </thead>\n",
       "  <tbody>\n",
       "    <tr>\n",
       "      <th>0</th>\n",
       "      <td>mid</td>\n",
       "      <td>low</td>\n",
       "      <td>excellent</td>\n",
       "      <td>mid</td>\n",
       "      <td>stable</td>\n",
       "      <td>stable</td>\n",
       "      <td>stable</td>\n",
       "      <td>15</td>\n",
       "      <td>A</td>\n",
       "    </tr>\n",
       "    <tr>\n",
       "      <th>1</th>\n",
       "      <td>mid</td>\n",
       "      <td>high</td>\n",
       "      <td>excellent</td>\n",
       "      <td>high</td>\n",
       "      <td>stable</td>\n",
       "      <td>stable</td>\n",
       "      <td>stable</td>\n",
       "      <td>10</td>\n",
       "      <td>S</td>\n",
       "    </tr>\n",
       "    <tr>\n",
       "      <th>2</th>\n",
       "      <td>high</td>\n",
       "      <td>low</td>\n",
       "      <td>excellent</td>\n",
       "      <td>high</td>\n",
       "      <td>stable</td>\n",
       "      <td>stable</td>\n",
       "      <td>mod-stable</td>\n",
       "      <td>10</td>\n",
       "      <td>A</td>\n",
       "    </tr>\n",
       "    <tr>\n",
       "      <th>3</th>\n",
       "      <td>mid</td>\n",
       "      <td>low</td>\n",
       "      <td>good</td>\n",
       "      <td>high</td>\n",
       "      <td>stable</td>\n",
       "      <td>unstable</td>\n",
       "      <td>mod-stable</td>\n",
       "      <td>15</td>\n",
       "      <td>A</td>\n",
       "    </tr>\n",
       "    <tr>\n",
       "      <th>4</th>\n",
       "      <td>mid</td>\n",
       "      <td>mid</td>\n",
       "      <td>excellent</td>\n",
       "      <td>high</td>\n",
       "      <td>stable</td>\n",
       "      <td>stable</td>\n",
       "      <td>stable</td>\n",
       "      <td>10</td>\n",
       "      <td>A</td>\n",
       "    </tr>\n",
       "  </tbody>\n",
       "</table>\n",
       "</div>"
      ],
      "text/plain": [
       "  L-CORE L-SURF       L-02  L-BP SURF-STBL CORE-STBL     BP-STBL COMFORT  \\\n",
       "0    mid    low  excellent   mid    stable    stable      stable      15   \n",
       "1    mid   high  excellent  high    stable    stable      stable      10   \n",
       "2   high    low  excellent  high    stable    stable  mod-stable      10   \n",
       "3    mid    low       good  high    stable  unstable  mod-stable      15   \n",
       "4    mid    mid  excellent  high    stable    stable      stable      10   \n",
       "\n",
       "  decision  \n",
       "0        A  \n",
       "1        S  \n",
       "2        A  \n",
       "3        A  \n",
       "4        A  "
      ]
     },
     "execution_count": 3,
     "metadata": {},
     "output_type": "execute_result"
    }
   ],
   "source": [
    "#오류나는 Y 데이터 전처리(같은 A값인데 다르게 나옴)\n",
    "df['decision'][3]=df['decision'][4]\n",
    "df[:5]"
   ]
  },
  {
   "cell_type": "code",
   "execution_count": 4,
   "metadata": {
    "collapsed": false
   },
   "outputs": [],
   "source": [
    "#COMFORT 데이터 전처리 '?'값 평균값으로 처리\n",
    "\n",
    "int_data = df['COMFORT'] [df['COMFORT'] != '?'].astype('int64')\n",
    "\n",
    "average=sum(int_data)/len(int_data)\n",
    "\n",
    "df['COMFORT'] [df['COMFORT'] == '?']=str(average)\n",
    "\n",
    "for c in ['L-CORE', 'L-SURF', 'L-02', 'L-BP', 'SURF-STBL', 'CORE-STBL', 'BP-STBL', 'decision']:\n",
    "    df[c] = df[c].astype('category')\n",
    "\n",
    "df[\"COMFORT\"]=df[\"COMFORT\"].astype(np.float32)"
   ]
  },
  {
   "cell_type": "code",
   "execution_count": 5,
   "metadata": {
    "collapsed": false
   },
   "outputs": [
    {
     "data": {
      "text/plain": [
       "array([[ 15.,   0.,   0.,   1.,   0.,   1.,   0.,   1.,   0.,   0.,   0.,\n",
       "          1.,   1.,   0.,   0.,   1.,   0.,   0.,   1.,   0.],\n",
       "       [ 10.,   0.,   0.,   1.,   1.,   0.,   0.,   1.,   0.,   1.,   0.,\n",
       "          0.,   1.,   0.,   0.,   1.,   0.,   0.,   1.,   0.],\n",
       "       [ 10.,   1.,   0.,   0.,   0.,   1.,   0.,   1.,   0.,   1.,   0.,\n",
       "          0.,   1.,   0.,   0.,   1.,   0.,   1.,   0.,   0.],\n",
       "       [ 15.,   0.,   0.,   1.,   0.,   1.,   0.,   0.,   1.,   1.,   0.,\n",
       "          0.,   1.,   0.,   0.,   0.,   1.,   1.,   0.,   0.],\n",
       "       [ 10.,   0.,   0.,   1.,   0.,   0.,   1.,   1.,   0.,   1.,   0.,\n",
       "          0.,   1.,   0.,   0.,   1.,   0.,   0.,   1.,   0.]])"
      ]
     },
     "execution_count": 5,
     "metadata": {},
     "output_type": "execute_result"
    }
   ],
   "source": [
    "#y데이터와 x데이터로 나눔\n",
    "y_data=df.pop('decision')\n",
    "x_data=pd.get_dummies(df).values\n",
    "\n",
    "x_data[:5]"
   ]
  },
  {
   "cell_type": "code",
   "execution_count": 6,
   "metadata": {
    "collapsed": false
   },
   "outputs": [
    {
     "data": {
      "text/html": [
       "<div>\n",
       "<table border=\"1\" class=\"dataframe\">\n",
       "  <thead>\n",
       "    <tr style=\"text-align: right;\">\n",
       "      <th></th>\n",
       "      <th>COMFORT</th>\n",
       "      <th>L-CORE_high</th>\n",
       "      <th>L-CORE_low</th>\n",
       "      <th>L-CORE_mid</th>\n",
       "      <th>L-SURF_high</th>\n",
       "      <th>L-SURF_low</th>\n",
       "      <th>L-SURF_mid</th>\n",
       "      <th>L-02_excellent</th>\n",
       "      <th>L-02_good</th>\n",
       "      <th>L-BP_high</th>\n",
       "      <th>L-BP_low</th>\n",
       "      <th>L-BP_mid</th>\n",
       "      <th>SURF-STBL_stable</th>\n",
       "      <th>SURF-STBL_unstable</th>\n",
       "      <th>CORE-STBL_mod-stable</th>\n",
       "      <th>CORE-STBL_stable</th>\n",
       "      <th>CORE-STBL_unstable</th>\n",
       "      <th>BP-STBL_mod-stable</th>\n",
       "      <th>BP-STBL_stable</th>\n",
       "      <th>BP-STBL_unstable</th>\n",
       "    </tr>\n",
       "  </thead>\n",
       "  <tbody>\n",
       "    <tr>\n",
       "      <th>0</th>\n",
       "      <td>15.0</td>\n",
       "      <td>0.0</td>\n",
       "      <td>0.0</td>\n",
       "      <td>1.0</td>\n",
       "      <td>0.0</td>\n",
       "      <td>1.0</td>\n",
       "      <td>0.0</td>\n",
       "      <td>1.0</td>\n",
       "      <td>0.0</td>\n",
       "      <td>0.0</td>\n",
       "      <td>0.0</td>\n",
       "      <td>1.0</td>\n",
       "      <td>1.0</td>\n",
       "      <td>0.0</td>\n",
       "      <td>0.0</td>\n",
       "      <td>1.0</td>\n",
       "      <td>0.0</td>\n",
       "      <td>0.0</td>\n",
       "      <td>1.0</td>\n",
       "      <td>0.0</td>\n",
       "    </tr>\n",
       "    <tr>\n",
       "      <th>1</th>\n",
       "      <td>10.0</td>\n",
       "      <td>0.0</td>\n",
       "      <td>0.0</td>\n",
       "      <td>1.0</td>\n",
       "      <td>1.0</td>\n",
       "      <td>0.0</td>\n",
       "      <td>0.0</td>\n",
       "      <td>1.0</td>\n",
       "      <td>0.0</td>\n",
       "      <td>1.0</td>\n",
       "      <td>0.0</td>\n",
       "      <td>0.0</td>\n",
       "      <td>1.0</td>\n",
       "      <td>0.0</td>\n",
       "      <td>0.0</td>\n",
       "      <td>1.0</td>\n",
       "      <td>0.0</td>\n",
       "      <td>0.0</td>\n",
       "      <td>1.0</td>\n",
       "      <td>0.0</td>\n",
       "    </tr>\n",
       "    <tr>\n",
       "      <th>2</th>\n",
       "      <td>10.0</td>\n",
       "      <td>1.0</td>\n",
       "      <td>0.0</td>\n",
       "      <td>0.0</td>\n",
       "      <td>0.0</td>\n",
       "      <td>1.0</td>\n",
       "      <td>0.0</td>\n",
       "      <td>1.0</td>\n",
       "      <td>0.0</td>\n",
       "      <td>1.0</td>\n",
       "      <td>0.0</td>\n",
       "      <td>0.0</td>\n",
       "      <td>1.0</td>\n",
       "      <td>0.0</td>\n",
       "      <td>0.0</td>\n",
       "      <td>1.0</td>\n",
       "      <td>0.0</td>\n",
       "      <td>1.0</td>\n",
       "      <td>0.0</td>\n",
       "      <td>0.0</td>\n",
       "    </tr>\n",
       "    <tr>\n",
       "      <th>3</th>\n",
       "      <td>15.0</td>\n",
       "      <td>0.0</td>\n",
       "      <td>0.0</td>\n",
       "      <td>1.0</td>\n",
       "      <td>0.0</td>\n",
       "      <td>1.0</td>\n",
       "      <td>0.0</td>\n",
       "      <td>0.0</td>\n",
       "      <td>1.0</td>\n",
       "      <td>1.0</td>\n",
       "      <td>0.0</td>\n",
       "      <td>0.0</td>\n",
       "      <td>1.0</td>\n",
       "      <td>0.0</td>\n",
       "      <td>0.0</td>\n",
       "      <td>0.0</td>\n",
       "      <td>1.0</td>\n",
       "      <td>1.0</td>\n",
       "      <td>0.0</td>\n",
       "      <td>0.0</td>\n",
       "    </tr>\n",
       "    <tr>\n",
       "      <th>4</th>\n",
       "      <td>10.0</td>\n",
       "      <td>0.0</td>\n",
       "      <td>0.0</td>\n",
       "      <td>1.0</td>\n",
       "      <td>0.0</td>\n",
       "      <td>0.0</td>\n",
       "      <td>1.0</td>\n",
       "      <td>1.0</td>\n",
       "      <td>0.0</td>\n",
       "      <td>1.0</td>\n",
       "      <td>0.0</td>\n",
       "      <td>0.0</td>\n",
       "      <td>1.0</td>\n",
       "      <td>0.0</td>\n",
       "      <td>0.0</td>\n",
       "      <td>1.0</td>\n",
       "      <td>0.0</td>\n",
       "      <td>0.0</td>\n",
       "      <td>1.0</td>\n",
       "      <td>0.0</td>\n",
       "    </tr>\n",
       "  </tbody>\n",
       "</table>\n",
       "</div>"
      ],
      "text/plain": [
       "   COMFORT  L-CORE_high  L-CORE_low  L-CORE_mid  L-SURF_high  L-SURF_low  \\\n",
       "0     15.0          0.0         0.0         1.0          0.0         1.0   \n",
       "1     10.0          0.0         0.0         1.0          1.0         0.0   \n",
       "2     10.0          1.0         0.0         0.0          0.0         1.0   \n",
       "3     15.0          0.0         0.0         1.0          0.0         1.0   \n",
       "4     10.0          0.0         0.0         1.0          0.0         0.0   \n",
       "\n",
       "   L-SURF_mid  L-02_excellent  L-02_good  L-BP_high  L-BP_low  L-BP_mid  \\\n",
       "0         0.0             1.0        0.0        0.0       0.0       1.0   \n",
       "1         0.0             1.0        0.0        1.0       0.0       0.0   \n",
       "2         0.0             1.0        0.0        1.0       0.0       0.0   \n",
       "3         0.0             0.0        1.0        1.0       0.0       0.0   \n",
       "4         1.0             1.0        0.0        1.0       0.0       0.0   \n",
       "\n",
       "   SURF-STBL_stable  SURF-STBL_unstable  CORE-STBL_mod-stable  \\\n",
       "0               1.0                 0.0                   0.0   \n",
       "1               1.0                 0.0                   0.0   \n",
       "2               1.0                 0.0                   0.0   \n",
       "3               1.0                 0.0                   0.0   \n",
       "4               1.0                 0.0                   0.0   \n",
       "\n",
       "   CORE-STBL_stable  CORE-STBL_unstable  BP-STBL_mod-stable  BP-STBL_stable  \\\n",
       "0               1.0                 0.0                 0.0             1.0   \n",
       "1               1.0                 0.0                 0.0             1.0   \n",
       "2               1.0                 0.0                 1.0             0.0   \n",
       "3               0.0                 1.0                 1.0             0.0   \n",
       "4               1.0                 0.0                 0.0             1.0   \n",
       "\n",
       "   BP-STBL_unstable  \n",
       "0               0.0  \n",
       "1               0.0  \n",
       "2               0.0  \n",
       "3               0.0  \n",
       "4               0.0  "
      ]
     },
     "execution_count": 6,
     "metadata": {},
     "output_type": "execute_result"
    }
   ],
   "source": [
    "df=pd.get_dummies(df)\n",
    "df[:5]"
   ]
  },
  {
   "cell_type": "code",
   "execution_count": 8,
   "metadata": {
    "collapsed": false
   },
   "outputs": [
    {
     "name": "stderr",
     "output_type": "stream",
     "text": [
      "/home/jinhong/miniconda3/envs/ml_python/lib/python3.4/site-packages/sklearn/preprocessing/data.py:324: DeprecationWarning: Passing 1d arrays as data is deprecated in 0.17 and will raise ValueError in 0.19. Reshape your data either using X.reshape(-1, 1) if your data has a single feature or X.reshape(1, -1) if it contains a single sample.\n",
      "  warnings.warn(DEPRECATION_MSG_1D, DeprecationWarning)\n",
      "/home/jinhong/miniconda3/envs/ml_python/lib/python3.4/site-packages/sklearn/preprocessing/data.py:359: DeprecationWarning: Passing 1d arrays as data is deprecated in 0.17 and will raise ValueError in 0.19. Reshape your data either using X.reshape(-1, 1) if your data has a single feature or X.reshape(1, -1) if it contains a single sample.\n",
      "  warnings.warn(DEPRECATION_MSG_1D, DeprecationWarning)\n"
     ]
    },
    {
     "data": {
      "text/plain": [
       "array([ 1. ,  0.5,  0.5,  1. ,  0.5])"
      ]
     },
     "execution_count": 8,
     "metadata": {},
     "output_type": "execute_result"
    }
   ],
   "source": [
    "from sklearn import preprocessing\n",
    "\n",
    "min_max_scaler = preprocessing.MinMaxScaler()\n",
    "x_data[:,0]=min_max_scaler.fit_transform(x_data[:,0])\n",
    "\n",
    "x_data[:5,0]"
   ]
  },
  {
   "cell_type": "code",
   "execution_count": 9,
   "metadata": {
    "collapsed": false
   },
   "outputs": [
    {
     "name": "stdout",
     "output_type": "stream",
     "text": [
      "0.678518518519\n"
     ]
    }
   ],
   "source": [
    "#LogisticRegression 모델 사용 후 성능 평가\n",
    "\n",
    "from sklearn.cross_validation import KFold,ShuffleSplit\n",
    "from sklearn.linear_model import LogisticRegression\n",
    "\n",
    "average_perpomance=np.zeros(100)\n",
    "cv  = ShuffleSplit(len(y_data),  n_iter=100, test_size=0.3, random_state=0)\n",
    "\n",
    "y_data = np.array(y_data)\n",
    "x_data = np.array(x_data)\n",
    "\n",
    "for num,(train_index, test_index) in enumerate(cv) :\n",
    "    x_train, x_test = x_data[train_index], x_data[test_index]\n",
    "    y_train, y_test = y_data[train_index], y_data[test_index]\n",
    "    \n",
    "    clf = LogisticRegression()\n",
    "    clf.fit(x_train, y_train)\n",
    "    result = clf.predict(x_test)\n",
    "   \n",
    "    average_perpomance[num]=(sum(result == y_test) / len(y_test))\n",
    "\n",
    "print(sum(average_perpomance)/len(average_perpomance))"
   ]
  },
  {
   "cell_type": "code",
   "execution_count": 10,
   "metadata": {
    "collapsed": false
   },
   "outputs": [
    {
     "name": "stdout",
     "output_type": "stream",
     "text": [
      "---------------S----------------\n",
      "L-BP_low               -1.119785e-01\n",
      "L-BP_high              -1.066004e-01\n",
      "CORE-STBL_stable       -1.063248e-01\n",
      "L-SURF_high            -9.842731e-02\n",
      "BP-STBL_mod-stable     -9.504969e-02\n",
      "BP-STBL_unstable       -6.528618e-02\n",
      "CORE-STBL_mod-stable   -6.392028e-02\n",
      "L-CORE_high            -3.335452e-02\n",
      "L-CORE_mid             -2.449530e-02\n",
      "L-02_excellent         -2.347408e-02\n",
      "COMFORT                -6.923037e-03\n",
      "SURF-STBL_stable       -2.789540e-18\n",
      "SURF-STBL_unstable      2.789540e-18\n",
      "L-SURF_low              1.869894e-02\n",
      "L-02_good               2.347408e-02\n",
      "L-CORE_low              5.746398e-02\n",
      "L-SURF_mid              6.043672e-02\n",
      "BP-STBL_stable          1.373891e-01\n",
      "CORE-STBL_unstable      1.410190e-01\n",
      "L-BP_mid                1.459918e-01\n",
      "dtype: float64\n",
      "---------------A----------------\n",
      "BP-STBL_stable         -1.329560e-01\n",
      "L-BP_mid               -1.288735e-01\n",
      "CORE-STBL_unstable     -1.244838e-01\n",
      "L-CORE_low             -9.077291e-02\n",
      "L-02_good              -6.979915e-02\n",
      "L-SURF_mid             -5.569013e-02\n",
      "L-SURF_low             -4.256912e-02\n",
      "SURF-STBL_stable       -1.088663e-17\n",
      "SURF-STBL_unstable      1.088663e-17\n",
      "COMFORT                 1.701150e-02\n",
      "BP-STBL_unstable        3.622013e-02\n",
      "L-CORE_mid              3.869397e-02\n",
      "L-CORE_high             5.268842e-02\n",
      "CORE-STBL_mod-stable    6.756187e-02\n",
      "L-02_excellent          6.979915e-02\n",
      "L-BP_high               8.667191e-02\n",
      "CORE-STBL_stable        8.949895e-02\n",
      "L-BP_low                1.183580e-01\n",
      "L-SURF_high             1.196922e-01\n",
      "BP-STBL_mod-stable      1.197849e-01\n",
      "dtype: float64\n",
      "---------------I----------------\n",
      "L-02_excellent         -1.441979e-01\n",
      "BP-STBL_mod-stable     -8.316848e-02\n",
      "L-SURF_high            -7.275062e-02\n",
      "L-CORE_high            -6.194410e-02\n",
      "L-CORE_mid             -4.549127e-02\n",
      "L-BP_mid               -4.171195e-02\n",
      "CORE-STBL_unstable     -4.029115e-02\n",
      "COMFORT                -3.153828e-02\n",
      "L-BP_low               -2.799463e-02\n",
      "CORE-STBL_mod-stable   -1.598007e-02\n",
      "L-SURF_mid             -1.007279e-02\n",
      "BP-STBL_stable         -3.350954e-03\n",
      "SURF-STBL_unstable     -2.249067e-17\n",
      "SURF-STBL_stable        2.249067e-17\n",
      "CORE-STBL_stable        4.378079e-02\n",
      "L-BP_high               5.330018e-02\n",
      "L-SURF_low              7.479576e-02\n",
      "BP-STBL_unstable        8.448800e-02\n",
      "L-CORE_low              1.067188e-01\n",
      "L-02_good               1.441979e-01\n",
      "dtype: float64\n"
     ]
    }
   ],
   "source": [
    "# x 데이터와 Y의 상관도 분석\n",
    "y_dummies=pd.get_dummies(y_data)\n",
    "\n",
    "print('---------------S----------------')\n",
    "print(df.corrwith(y_dummies[\"S\"]).sort_values(ascending=True))\n",
    "print('---------------A----------------')\n",
    "print(df.corrwith(y_dummies[\"A\"]).sort_values(ascending=True))\n",
    "print('---------------I----------------')\n",
    "print(df.corrwith(y_dummies[\"I\"]).sort_values(ascending=True))"
   ]
  },
  {
   "cell_type": "code",
   "execution_count": 11,
   "metadata": {
    "collapsed": false
   },
   "outputs": [
    {
     "name": "stderr",
     "output_type": "stream",
     "text": [
      "/home/jinhong/miniconda3/envs/ml_python/lib/python3.4/site-packages/ipykernel/__main__.py:3: SettingWithCopyWarning: \n",
      "A value is trying to be set on a copy of a slice from a DataFrame\n",
      "\n",
      "See the caveats in the documentation: http://pandas.pydata.org/pandas-docs/stable/indexing.html#indexing-view-versus-copy\n",
      "  app.launch_new_instance()\n",
      "/home/jinhong/miniconda3/envs/ml_python/lib/python3.4/site-packages/ipykernel/__main__.py:4: SettingWithCopyWarning: \n",
      "A value is trying to be set on a copy of a slice from a DataFrame\n",
      "\n",
      "See the caveats in the documentation: http://pandas.pydata.org/pandas-docs/stable/indexing.html#indexing-view-versus-copy\n",
      "/home/jinhong/miniconda3/envs/ml_python/lib/python3.4/site-packages/ipykernel/__main__.py:5: SettingWithCopyWarning: \n",
      "A value is trying to be set on a copy of a slice from a DataFrame\n",
      "\n",
      "See the caveats in the documentation: http://pandas.pydata.org/pandas-docs/stable/indexing.html#indexing-view-versus-copy\n"
     ]
    }
   ],
   "source": [
    "#Y의 라벨 S는 L-BP변수와 상관도가 가장 높음\n",
    "\n",
    "df['L-BP_low'][y_data=='S']*=1.5\n",
    "df['L-BP_mid'][y_data=='S']*=1.5\n",
    "df['L-BP_high'][y_data=='S']*=1.5\n",
    "\n",
    "\n",
    "#Y의 라벨 A는 BP-STBL변수와 상관도가 가장 높음\n",
    "\n",
    "df['BP-STBL_stable'][y_data=='A']*=1.5\n",
    "df['BP-STBL_mod-stable'][y_data=='A']*=1.5\n",
    "df['BP-STBL_unstable'][y_data=='A']*=1.5\n",
    "\n",
    "\n",
    "#Y의 라벨 I는 L-02변수와 상관도가 가장 높음\n",
    "\n",
    "df['L-02_excellent'][y_data=='I']*=1.5\n",
    "df['L-02_good'][y_data=='I']*=1.5\n"
   ]
  },
  {
   "cell_type": "code",
   "execution_count": 14,
   "metadata": {
    "collapsed": false
   },
   "outputs": [],
   "source": [
    "#feature engineering (COMFORT 변수 삭제)\n",
    "import copy\n",
    "\n",
    "df2=df.copy()\n",
    "\n",
    "df2=df2.values\n",
    "x_data=df2[:,1:]"
   ]
  },
  {
   "cell_type": "code",
   "execution_count": 15,
   "metadata": {
    "collapsed": false
   },
   "outputs": [
    {
     "name": "stdout",
     "output_type": "stream",
     "text": [
      "0.854444444444\n"
     ]
    }
   ],
   "source": [
    "#feature engineering 후 재평가\n",
    "\n",
    "#from sklearn.cross_validation import KFold,ShuffleSplit\n",
    "from sklearn.linear_model import LogisticRegression\n",
    "\n",
    "average_perpomance=np.zeros(100)\n",
    "cv  = ShuffleSplit(len(y_data),  n_iter=100, test_size=0.3, random_state=0)\n",
    "\n",
    "y_data = np.array(y_data)\n",
    "x_data = np.array(x_data)\n",
    "\n",
    "for num,(train_index, test_index) in enumerate(cv) :\n",
    "    x_train, x_test = x_data[train_index], x_data[test_index]\n",
    "    y_train, y_test = y_data[train_index], y_data[test_index]\n",
    "    \n",
    "    clf = LogisticRegression()\n",
    "    clf.fit(x_train, y_train)\n",
    "    result = clf.predict(x_test)\n",
    "   \n",
    "    average_perpomance[num]=(sum(result == y_test) / len(y_test))\n",
    "\n",
    "print(sum(average_perpomance)/len(average_perpomance))"
   ]
  },
  {
   "cell_type": "code",
   "execution_count": 16,
   "metadata": {
    "collapsed": false
   },
   "outputs": [
    {
     "name": "stdout",
     "output_type": "stream",
     "text": [
      "0.945185185185\n"
     ]
    }
   ],
   "source": [
    "#over fitting 방지하기 위해 randomforest 사용 후 재평가\n",
    "\n",
    "from sklearn.ensemble import RandomForestClassifier\n",
    "\n",
    "average_perpomance=np.zeros(100)\n",
    "cv  = ShuffleSplit(len(y_data),  n_iter=100, test_size=0.3, random_state=0)\n",
    "\n",
    "y_data = np.array(y_data)\n",
    "x_data = np.array(x_data)\n",
    "\n",
    "for num,(train_index, test_index) in enumerate(cv) :\n",
    "    x_train, x_test = x_data[train_index], x_data[test_index]\n",
    "    y_train, y_test = y_data[train_index], y_data[test_index]\n",
    "    \n",
    "    clf = RandomForestClassifier(n_estimators=10)\n",
    "    clf.fit(x_train, y_train)\n",
    "    result = clf.predict(x_test)\n",
    "   \n",
    "    average_perpomance[num]=(sum(result == y_test) / len(y_test))\n",
    "\n",
    "print(sum(average_perpomance)/len(average_perpomance))"
   ]
  }
 ],
 "metadata": {
  "kernelspec": {
   "display_name": "Python 3",
   "language": "python",
   "name": "python3"
  },
  "language_info": {
   "codemirror_mode": {
    "name": "ipython",
    "version": 3
   },
   "file_extension": ".py",
   "mimetype": "text/x-python",
   "name": "python",
   "nbconvert_exporter": "python",
   "pygments_lexer": "ipython3",
   "version": "3.4.5"
  }
 },
 "nbformat": 4,
 "nbformat_minor": 0
}
