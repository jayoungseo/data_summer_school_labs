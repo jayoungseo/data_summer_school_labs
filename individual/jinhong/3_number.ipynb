{
 "cells": [
  {
   "cell_type": "code",
   "execution_count": 5,
   "metadata": {
    "collapsed": false
   },
   "outputs": [],
   "source": [
    "from twython import Twython \n",
    "from collections import Counter\n",
    "\n",
    "CONSUMER_KEY = \"yGPDsbjVJUAYaZILuzxUnzU25\"\n",
    "CONSUMER_SECRET = \"1F88AnHYwh30M3c8JQzEstxJqpGPUJ1tzTSewcABYVGMzeYoEG\"\n",
    "ACCESS_TOKEN = \"763691578158219264-aFfOAPHyS6w2fyqUpQqnfp93S9L1g0G\"\n",
    "ACCESS_TOKEN_SECRET = \"FywHo6QGz6pmIZ2cfppaMdpomMflD0pSFmjcobUeMnC0c\""
   ]
  },
  {
   "cell_type": "code",
   "execution_count": 20,
   "metadata": {
    "collapsed": false
   },
   "outputs": [],
   "source": [
    "from twython import TwythonStreamer\n",
    "\n",
    "tweets=[]\n",
    "class MyStreamer(TwythonStreamer):\n",
    "    def on_success(self, data):\n",
    "        if data['lang'] == 'ko':\n",
    "            tweets.append(data['text'])\n",
    "            print(\"received tweet #\",len(tweets), tweets[-1])\n",
    "          \n",
    "        if(len(tweets)>=10):\n",
    "            self.disconnect()\n",
    "            \n",
    "    def on_error(self, status_code, data):\n",
    "        print(status_code, data)\n",
    "        self.disconnect()\n",
    "        \n"
   ]
  },
  {
   "cell_type": "code",
   "execution_count": null,
   "metadata": {
    "collapsed": false,
    "scrolled": false
   },
   "outputs": [],
   "source": [
    "stream = MyStreamer(CONSUMER_KEY,CONSUMER_SECRET,ACCESS_TOKEN,ACCESS_TOKEN_SECRET)\n",
    "stream.statuses.filter(track='영화 터널')"
   ]
  }
 ],
 "metadata": {
  "kernelspec": {
   "display_name": "Python 3",
   "language": "python",
   "name": "python3"
  },
  "language_info": {
   "codemirror_mode": {
    "name": "ipython",
    "version": 3
   },
   "file_extension": ".py",
   "mimetype": "text/x-python",
   "name": "python",
   "nbconvert_exporter": "python",
   "pygments_lexer": "ipython3",
   "version": "3.5.2"
  }
 },
 "nbformat": 4,
 "nbformat_minor": 0
}
